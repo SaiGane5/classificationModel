{
 "cells": [
  {
   "cell_type": "code",
   "execution_count": 5,
   "metadata": {},
   "outputs": [
    {
     "name": "stdout",
     "output_type": "stream",
     "text": [
      "Collecting llama-index-llms-perplexity\n",
      "  Downloading llama_index_llms_perplexity-0.1.3-py3-none-any.whl.metadata (597 bytes)\n",
      "Requirement already satisfied: llama-index-core<0.11.0,>=0.10.1 in ./venv/lib/python3.12/site-packages (from llama-index-llms-perplexity) (0.10.41)\n",
      "Requirement already satisfied: PyYAML>=6.0.1 in ./venv/lib/python3.12/site-packages (from llama-index-core<0.11.0,>=0.10.1->llama-index-llms-perplexity) (6.0.1)\n",
      "Requirement already satisfied: SQLAlchemy>=1.4.49 in ./venv/lib/python3.12/site-packages (from SQLAlchemy[asyncio]>=1.4.49->llama-index-core<0.11.0,>=0.10.1->llama-index-llms-perplexity) (2.0.30)\n",
      "Requirement already satisfied: aiohttp<4.0.0,>=3.8.6 in ./venv/lib/python3.12/site-packages (from llama-index-core<0.11.0,>=0.10.1->llama-index-llms-perplexity) (3.9.5)\n",
      "Requirement already satisfied: dataclasses-json in ./venv/lib/python3.12/site-packages (from llama-index-core<0.11.0,>=0.10.1->llama-index-llms-perplexity) (0.6.6)\n",
      "Requirement already satisfied: deprecated>=1.2.9.3 in ./venv/lib/python3.12/site-packages (from llama-index-core<0.11.0,>=0.10.1->llama-index-llms-perplexity) (1.2.14)\n",
      "Requirement already satisfied: dirtyjson<2.0.0,>=1.0.8 in ./venv/lib/python3.12/site-packages (from llama-index-core<0.11.0,>=0.10.1->llama-index-llms-perplexity) (1.0.8)\n",
      "Requirement already satisfied: fsspec>=2023.5.0 in ./venv/lib/python3.12/site-packages (from llama-index-core<0.11.0,>=0.10.1->llama-index-llms-perplexity) (2024.3.1)\n",
      "Requirement already satisfied: httpx in ./venv/lib/python3.12/site-packages (from llama-index-core<0.11.0,>=0.10.1->llama-index-llms-perplexity) (0.27.0)\n",
      "Requirement already satisfied: llamaindex-py-client<0.2.0,>=0.1.18 in ./venv/lib/python3.12/site-packages (from llama-index-core<0.11.0,>=0.10.1->llama-index-llms-perplexity) (0.1.19)\n",
      "Requirement already satisfied: nest-asyncio<2.0.0,>=1.5.8 in ./venv/lib/python3.12/site-packages (from llama-index-core<0.11.0,>=0.10.1->llama-index-llms-perplexity) (1.6.0)\n",
      "Requirement already satisfied: networkx>=3.0 in ./venv/lib/python3.12/site-packages (from llama-index-core<0.11.0,>=0.10.1->llama-index-llms-perplexity) (3.3)\n",
      "Requirement already satisfied: nltk<4.0.0,>=3.8.1 in ./venv/lib/python3.12/site-packages (from llama-index-core<0.11.0,>=0.10.1->llama-index-llms-perplexity) (3.8.1)\n",
      "Requirement already satisfied: numpy in ./venv/lib/python3.12/site-packages (from llama-index-core<0.11.0,>=0.10.1->llama-index-llms-perplexity) (1.26.4)\n",
      "Requirement already satisfied: openai>=1.1.0 in ./venv/lib/python3.12/site-packages (from llama-index-core<0.11.0,>=0.10.1->llama-index-llms-perplexity) (1.30.5)\n",
      "Requirement already satisfied: pandas in ./venv/lib/python3.12/site-packages (from llama-index-core<0.11.0,>=0.10.1->llama-index-llms-perplexity) (2.2.2)\n",
      "Requirement already satisfied: pillow>=9.0.0 in ./venv/lib/python3.12/site-packages (from llama-index-core<0.11.0,>=0.10.1->llama-index-llms-perplexity) (10.3.0)\n",
      "Requirement already satisfied: requests>=2.31.0 in ./venv/lib/python3.12/site-packages (from llama-index-core<0.11.0,>=0.10.1->llama-index-llms-perplexity) (2.32.3)\n",
      "Requirement already satisfied: tenacity<9.0.0,>=8.2.0 in ./venv/lib/python3.12/site-packages (from llama-index-core<0.11.0,>=0.10.1->llama-index-llms-perplexity) (8.3.0)\n",
      "Requirement already satisfied: tiktoken>=0.3.3 in ./venv/lib/python3.12/site-packages (from llama-index-core<0.11.0,>=0.10.1->llama-index-llms-perplexity) (0.7.0)\n",
      "Requirement already satisfied: tqdm<5.0.0,>=4.66.1 in ./venv/lib/python3.12/site-packages (from llama-index-core<0.11.0,>=0.10.1->llama-index-llms-perplexity) (4.66.4)\n",
      "Requirement already satisfied: typing-extensions>=4.5.0 in ./venv/lib/python3.12/site-packages (from llama-index-core<0.11.0,>=0.10.1->llama-index-llms-perplexity) (4.12.0)\n",
      "Requirement already satisfied: typing-inspect>=0.8.0 in ./venv/lib/python3.12/site-packages (from llama-index-core<0.11.0,>=0.10.1->llama-index-llms-perplexity) (0.9.0)\n",
      "Requirement already satisfied: wrapt in ./venv/lib/python3.12/site-packages (from llama-index-core<0.11.0,>=0.10.1->llama-index-llms-perplexity) (1.16.0)\n",
      "Requirement already satisfied: aiosignal>=1.1.2 in ./venv/lib/python3.12/site-packages (from aiohttp<4.0.0,>=3.8.6->llama-index-core<0.11.0,>=0.10.1->llama-index-llms-perplexity) (1.3.1)\n",
      "Requirement already satisfied: attrs>=17.3.0 in ./venv/lib/python3.12/site-packages (from aiohttp<4.0.0,>=3.8.6->llama-index-core<0.11.0,>=0.10.1->llama-index-llms-perplexity) (23.2.0)\n",
      "Requirement already satisfied: frozenlist>=1.1.1 in ./venv/lib/python3.12/site-packages (from aiohttp<4.0.0,>=3.8.6->llama-index-core<0.11.0,>=0.10.1->llama-index-llms-perplexity) (1.4.1)\n",
      "Requirement already satisfied: multidict<7.0,>=4.5 in ./venv/lib/python3.12/site-packages (from aiohttp<4.0.0,>=3.8.6->llama-index-core<0.11.0,>=0.10.1->llama-index-llms-perplexity) (6.0.5)\n",
      "Requirement already satisfied: yarl<2.0,>=1.0 in ./venv/lib/python3.12/site-packages (from aiohttp<4.0.0,>=3.8.6->llama-index-core<0.11.0,>=0.10.1->llama-index-llms-perplexity) (1.9.4)\n",
      "Requirement already satisfied: pydantic>=1.10 in ./venv/lib/python3.12/site-packages (from llamaindex-py-client<0.2.0,>=0.1.18->llama-index-core<0.11.0,>=0.10.1->llama-index-llms-perplexity) (2.7.2)\n",
      "Requirement already satisfied: anyio in ./venv/lib/python3.12/site-packages (from httpx->llama-index-core<0.11.0,>=0.10.1->llama-index-llms-perplexity) (4.4.0)\n",
      "Requirement already satisfied: certifi in ./venv/lib/python3.12/site-packages (from httpx->llama-index-core<0.11.0,>=0.10.1->llama-index-llms-perplexity) (2024.2.2)\n",
      "Requirement already satisfied: httpcore==1.* in ./venv/lib/python3.12/site-packages (from httpx->llama-index-core<0.11.0,>=0.10.1->llama-index-llms-perplexity) (1.0.5)\n",
      "Requirement already satisfied: idna in ./venv/lib/python3.12/site-packages (from httpx->llama-index-core<0.11.0,>=0.10.1->llama-index-llms-perplexity) (3.7)\n",
      "Requirement already satisfied: sniffio in ./venv/lib/python3.12/site-packages (from httpx->llama-index-core<0.11.0,>=0.10.1->llama-index-llms-perplexity) (1.3.1)\n",
      "Requirement already satisfied: h11<0.15,>=0.13 in ./venv/lib/python3.12/site-packages (from httpcore==1.*->httpx->llama-index-core<0.11.0,>=0.10.1->llama-index-llms-perplexity) (0.14.0)\n",
      "Requirement already satisfied: click in ./venv/lib/python3.12/site-packages (from nltk<4.0.0,>=3.8.1->llama-index-core<0.11.0,>=0.10.1->llama-index-llms-perplexity) (8.1.7)\n",
      "Requirement already satisfied: joblib in ./venv/lib/python3.12/site-packages (from nltk<4.0.0,>=3.8.1->llama-index-core<0.11.0,>=0.10.1->llama-index-llms-perplexity) (1.4.2)\n",
      "Requirement already satisfied: regex>=2021.8.3 in ./venv/lib/python3.12/site-packages (from nltk<4.0.0,>=3.8.1->llama-index-core<0.11.0,>=0.10.1->llama-index-llms-perplexity) (2024.5.15)\n",
      "Requirement already satisfied: distro<2,>=1.7.0 in ./venv/lib/python3.12/site-packages (from openai>=1.1.0->llama-index-core<0.11.0,>=0.10.1->llama-index-llms-perplexity) (1.9.0)\n",
      "Requirement already satisfied: charset-normalizer<4,>=2 in ./venv/lib/python3.12/site-packages (from requests>=2.31.0->llama-index-core<0.11.0,>=0.10.1->llama-index-llms-perplexity) (3.3.2)\n",
      "Requirement already satisfied: urllib3<3,>=1.21.1 in ./venv/lib/python3.12/site-packages (from requests>=2.31.0->llama-index-core<0.11.0,>=0.10.1->llama-index-llms-perplexity) (2.2.1)\n",
      "Requirement already satisfied: greenlet!=0.4.17 in ./venv/lib/python3.12/site-packages (from SQLAlchemy>=1.4.49->SQLAlchemy[asyncio]>=1.4.49->llama-index-core<0.11.0,>=0.10.1->llama-index-llms-perplexity) (3.0.3)\n",
      "Requirement already satisfied: mypy-extensions>=0.3.0 in ./venv/lib/python3.12/site-packages (from typing-inspect>=0.8.0->llama-index-core<0.11.0,>=0.10.1->llama-index-llms-perplexity) (1.0.0)\n",
      "Requirement already satisfied: marshmallow<4.0.0,>=3.18.0 in ./venv/lib/python3.12/site-packages (from dataclasses-json->llama-index-core<0.11.0,>=0.10.1->llama-index-llms-perplexity) (3.21.2)\n",
      "Requirement already satisfied: python-dateutil>=2.8.2 in ./venv/lib/python3.12/site-packages (from pandas->llama-index-core<0.11.0,>=0.10.1->llama-index-llms-perplexity) (2.9.0.post0)\n",
      "Requirement already satisfied: pytz>=2020.1 in ./venv/lib/python3.12/site-packages (from pandas->llama-index-core<0.11.0,>=0.10.1->llama-index-llms-perplexity) (2024.1)\n",
      "Requirement already satisfied: tzdata>=2022.7 in ./venv/lib/python3.12/site-packages (from pandas->llama-index-core<0.11.0,>=0.10.1->llama-index-llms-perplexity) (2024.1)\n",
      "Requirement already satisfied: packaging>=17.0 in ./venv/lib/python3.12/site-packages (from marshmallow<4.0.0,>=3.18.0->dataclasses-json->llama-index-core<0.11.0,>=0.10.1->llama-index-llms-perplexity) (23.2)\n",
      "Requirement already satisfied: annotated-types>=0.4.0 in ./venv/lib/python3.12/site-packages (from pydantic>=1.10->llamaindex-py-client<0.2.0,>=0.1.18->llama-index-core<0.11.0,>=0.10.1->llama-index-llms-perplexity) (0.7.0)\n",
      "Requirement already satisfied: pydantic-core==2.18.3 in ./venv/lib/python3.12/site-packages (from pydantic>=1.10->llamaindex-py-client<0.2.0,>=0.1.18->llama-index-core<0.11.0,>=0.10.1->llama-index-llms-perplexity) (2.18.3)\n",
      "Requirement already satisfied: six>=1.5 in ./venv/lib/python3.12/site-packages (from python-dateutil>=2.8.2->pandas->llama-index-core<0.11.0,>=0.10.1->llama-index-llms-perplexity) (1.16.0)\n",
      "Downloading llama_index_llms_perplexity-0.1.3-py3-none-any.whl (4.0 kB)\n",
      "Installing collected packages: llama-index-llms-perplexity\n",
      "Successfully installed llama-index-llms-perplexity-0.1.3\n"
     ]
    }
   ],
   "source": [
    "!pip install llama-index-llms-perplexity llama-index"
   ]
  },
  {
   "cell_type": "code",
   "execution_count": 2,
   "metadata": {},
   "outputs": [],
   "source": [
    "from llama_index.llms.perplexity import Perplexity\n",
    "\n",
    "pplx_api_key = \"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\"\n",
    "\n",
    "llm = Perplexity(\n",
    "    api_key=pplx_api_key, model=\"mistral-7b-instruct\", temperature=0\n",
    ")"
   ]
  },
  {
   "cell_type": "code",
   "execution_count": 3,
   "metadata": {},
   "outputs": [],
   "source": [
    "\n",
    "prompt = \"\"\"\n",
    "Instructions:\n",
    "You will be shown a series of queries, each labeled as either \"Biology\" or \"Physics\". After reviewing these examples, you will be given a new query to classify into one of these two categories. Strictly respond with either \"Biology or \"Physics\", nothing other than that.\n",
    "\n",
    "Examples:\n",
    "\n",
    "\"What are different types of micro-organisms?\"\n",
    "(Label: Biology)\n",
    "\"What is quantum mechanics?\"\n",
    "(Label: Physics)\n",
    "\"Describe the symptoms of Typhoid.\"\n",
    "(Label: Biology)\n",
    "Here is the query to classify:\n",
    "{query_text}\n",
    "\n",
    "Please classify this query as either \"Biology\" or \"Physics\".\n",
    "\"\"\""
   ]
  },
  {
   "cell_type": "code",
   "execution_count": 4,
   "metadata": {},
   "outputs": [],
   "source": [
    "\n",
    "from llama_index.core.llms import ChatMessage\n",
    "\n",
    "# Define the prompt with a placeholder for the user query\n",
    "prompt_template = \"\"\"\n",
    "Instructions:\n",
    "You will be shown a series of queries, each labeled as either \"Biology\" or \"Physics\". After reviewing these examples, you will be given a new query to classify into one of these two categories. Strictly respond with either \"Biology or \"Physics\", no other words.\n",
    " \n",
    "Examples:\n",
    "1. \"What are different types of micro-organisms?\" \n",
    "   (Label: Biology)\n",
    "2. \"What is quantum mechanics?\" \n",
    "   (Label: Physics)\n",
    "3. \"Describe the symptoms of Typhoid.\"\n",
    "   (Label: Biology)\n",
    " \n",
    "Here is the query to classify:\n",
    "\"{query_text}\"\n",
    " \n",
    "Please classify this query as either \"Biology\" or \"Physics\".\n",
    "\"\"\"\n",
    "\n",
    "# User query to classify\n",
    "user_query = \"Who is the father of nanoscience\"\n",
    "\n",
    "# Format the prompt with the user query\n",
    "formatted_prompt = prompt_template.format(query_text=user_query)\n",
    "\n",
    "# Create the messages\n",
    "messages_dict = [\n",
    "    {\"role\": \"system\", \"content\": formatted_prompt},\n",
    "    {\"role\": \"user\", \"content\": user_query},\n",
    "]\n",
    "messages = [ChatMessage(**msg) for msg in messages_dict]\n",
    "\n",
    "# Now `messages` contains the formatted prompt and user query to be passed to the model\n",
    "\n"
   ]
  },
  {
   "cell_type": "code",
   "execution_count": 5,
   "metadata": {},
   "outputs": [
    {
     "name": "stdout",
     "output_type": "stream",
     "text": [
      "assistant: Physics\n"
     ]
    }
   ],
   "source": [
    "response = llm.chat(messages, max_tokens=2)\n",
    "print(response)"
   ]
  }
 ],
 "metadata": {
  "kernelspec": {
   "display_name": "classify",
   "language": "python",
   "name": "venv"
  },
  "language_info": {
   "codemirror_mode": {
    "name": "ipython",
    "version": 3
   },
   "file_extension": ".py",
   "mimetype": "text/x-python",
   "name": "python",
   "nbconvert_exporter": "python",
   "pygments_lexer": "ipython3",
   "version": "3.12.3"
  }
 },
 "nbformat": 4,
 "nbformat_minor": 2
}
